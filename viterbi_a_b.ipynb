{
 "cells": [
  {
   "cell_type": "markdown",
   "metadata": {},
   "source": [
    "# HMM Algorithm"
   ]
  },
  {
   "cell_type": "code",
   "execution_count": 11,
   "metadata": {},
   "outputs": [],
   "source": [
    "import numpy as np"
   ]
  },
  {
   "cell_type": "markdown",
   "metadata": {},
   "source": [
    "## (A) the Viterbi_HMM function"
   ]
  },
  {
   "cell_type": "code",
   "execution_count": 12,
   "metadata": {},
   "outputs": [],
   "source": [
    "def Viterbi_HMM(pi_init, A, B, O):\n",
    "    T = len(O) # length of the output scequence\n",
    "    N = A.shape[0] # number of states\n",
    "    O -= 1\n",
    "    \n",
    "#     S = np.zeros((N, T)) # one step per column\n",
    "#     W = np.zeros((N, T)) # one step per column\n",
    "    S = np.full((N, T), -1, dtype=float) # one step per column\n",
    "    W = np.full((N, T), -1, dtype=float) # one step per column\n",
    "    \n",
    "    # return values\n",
    "    P = 0\n",
    "    Q = np.zeros(T, dtype=int)\n",
    "    \n",
    "    # initialization\n",
    "    print('INITIALIZATION')\n",
    "    for j in range(N):\n",
    "        S[j, 0] = pi_init[j, 0] * B[O[0], j]\n",
    "        W[j, 0] = 0\n",
    "    print('After initialize, S =\\n', S)\n",
    "    \n",
    "    # recursion\n",
    "    print('RECURSION')\n",
    "    for t in range(1, T):\n",
    "        for j in range(N):\n",
    "            tmp_max = -1\n",
    "            for i in range(N):\n",
    "                tmp = S[i, t-1] * A[i, j] * B[O[t], j]\n",
    "                if tmp > S[j, t]:\n",
    "                    S[j, t] = tmp\n",
    "            \n",
    "                tmp = S[i, t-1] * A[i, j]\n",
    "                if tmp > tmp_max:\n",
    "                    tmp_max = tmp\n",
    "                    W[j, t] = i\n",
    "        print('after t =', t, ':')\n",
    "        print('S =\\n', S)\n",
    "        print('W =\\n', W)\n",
    "        print('-------------------------')\n",
    "        \n",
    "    # termination\n",
    "    print('TERMINATION')\n",
    "    for j in range(N):\n",
    "        tmp = S[j, T-1]\n",
    "        if tmp > P:\n",
    "            P = tmp\n",
    "            Q[T-1] = j\n",
    "            \n",
    "    # backtracking\n",
    "    print('BACKTRACK')\n",
    "    for t in range(T-2, -1, -1): # loop from T-2 to 0\n",
    "        Q[t] = W[Q[t+1], t+1]\n",
    "        \n",
    "    Q += 1\n",
    "    return P, Q"
   ]
  },
  {
   "cell_type": "markdown",
   "metadata": {},
   "source": [
    "## (B) - (1): Model the problem as a HMM"
   ]
  },
  {
   "cell_type": "code",
   "execution_count": 13,
   "metadata": {},
   "outputs": [],
   "source": [
    "pi_init = np.array([[1], [0]])\n",
    "A = np.array([[0.4, 0.6], [0.4, 0.6]])\n",
    "B = np.array([[0.6, 0.4], [0.4, 0.6]])\n",
    "O1 = np.array([1, 2, 2, 2, 1], dtype=int)\n",
    "O2 = np.array([2, 2, 2, 1, 1, 1, 1], dtype=int)"
   ]
  },
  {
   "cell_type": "markdown",
   "metadata": {},
   "source": [
    "## (B) - (2): Use the function in (A) to find the best state sequence and repective path probability"
   ]
  },
  {
   "cell_type": "markdown",
   "metadata": {},
   "source": [
    "#### For the observation sequence : {H, T, T, T, H}"
   ]
  },
  {
   "cell_type": "code",
   "execution_count": 14,
   "metadata": {},
   "outputs": [
    {
     "name": "stdout",
     "output_type": "stream",
     "text": [
      "INITIALIZATION\n",
      "After initialize, S =\n",
      " [[ 0.6 -1.  -1.  -1.  -1. ]\n",
      " [ 0.  -1.  -1.  -1.  -1. ]]\n",
      "RECURSION\n",
      "after t = 1 :\n",
      "S =\n",
      " [[ 0.6    0.096 -1.    -1.    -1.   ]\n",
      " [ 0.     0.216 -1.    -1.    -1.   ]]\n",
      "W =\n",
      " [[ 0.  0. -1. -1. -1.]\n",
      " [ 0.  0. -1. -1. -1.]]\n",
      "-------------------------\n",
      "after t = 2 :\n",
      "S =\n",
      " [[ 0.6      0.096    0.03456 -1.      -1.     ]\n",
      " [ 0.       0.216    0.07776 -1.      -1.     ]]\n",
      "W =\n",
      " [[ 0.  0.  1. -1. -1.]\n",
      " [ 0.  0.  1. -1. -1.]]\n",
      "-------------------------\n",
      "after t = 3 :\n",
      "S =\n",
      " [[ 0.6        0.096      0.03456    0.0124416 -1.       ]\n",
      " [ 0.         0.216      0.07776    0.0279936 -1.       ]]\n",
      "W =\n",
      " [[ 0.  0.  1.  1. -1.]\n",
      " [ 0.  0.  1.  1. -1.]]\n",
      "-------------------------\n",
      "after t = 4 :\n",
      "S =\n",
      " [[0.6        0.096      0.03456    0.0124416  0.00671846]\n",
      " [0.         0.216      0.07776    0.0279936  0.00671846]]\n",
      "W =\n",
      " [[0. 0. 1. 1. 1.]\n",
      " [0. 0. 1. 1. 1.]]\n",
      "-------------------------\n",
      "TERMINATION\n",
      "BACKTRACK\n",
      "\n",
      "The best state sequence and repective path probability: [1 2 2 2 1] 0.0067184639999999995\n"
     ]
    }
   ],
   "source": [
    "P, Q = Viterbi_HMM(pi_init, A, B, O1)\n",
    "print('\\nThe best state sequence and repective path probability:', Q, P)"
   ]
  },
  {
   "cell_type": "markdown",
   "metadata": {},
   "source": [
    "#### For the observation sequence : {T, T, T, H, H, H, H}"
   ]
  },
  {
   "cell_type": "code",
   "execution_count": 15,
   "metadata": {},
   "outputs": [
    {
     "name": "stdout",
     "output_type": "stream",
     "text": [
      "INITIALIZATION\n",
      "After initialize, S =\n",
      " [[ 0.4 -1.  -1.  -1.  -1.  -1.  -1. ]\n",
      " [ 0.  -1.  -1.  -1.  -1.  -1.  -1. ]]\n",
      "RECURSION\n",
      "after t = 1 :\n",
      "S =\n",
      " [[ 0.4    0.064 -1.    -1.    -1.    -1.    -1.   ]\n",
      " [ 0.     0.144 -1.    -1.    -1.    -1.    -1.   ]]\n",
      "W =\n",
      " [[ 0.  0. -1. -1. -1. -1. -1.]\n",
      " [ 0.  0. -1. -1. -1. -1. -1.]]\n",
      "-------------------------\n",
      "after t = 2 :\n",
      "S =\n",
      " [[ 0.4      0.064    0.02304 -1.      -1.      -1.      -1.     ]\n",
      " [ 0.       0.144    0.05184 -1.      -1.      -1.      -1.     ]]\n",
      "W =\n",
      " [[ 0.  0.  1. -1. -1. -1. -1.]\n",
      " [ 0.  0.  1. -1. -1. -1. -1.]]\n",
      "-------------------------\n",
      "after t = 3 :\n",
      "S =\n",
      " [[ 0.4        0.064      0.02304    0.0124416 -1.        -1.\n",
      "  -1.       ]\n",
      " [ 0.         0.144      0.05184    0.0124416 -1.        -1.\n",
      "  -1.       ]]\n",
      "W =\n",
      " [[ 0.  0.  1.  1. -1. -1. -1.]\n",
      " [ 0.  0.  1.  1. -1. -1. -1.]]\n",
      "-------------------------\n",
      "after t = 4 :\n",
      "S =\n",
      " [[ 0.4         0.064       0.02304     0.0124416   0.00298598 -1.\n",
      "  -1.        ]\n",
      " [ 0.          0.144       0.05184     0.0124416   0.00298598 -1.\n",
      "  -1.        ]]\n",
      "W =\n",
      " [[ 0.  0.  1.  1.  0. -1. -1.]\n",
      " [ 0.  0.  1.  1.  0. -1. -1.]]\n",
      "-------------------------\n",
      "after t = 5 :\n",
      "S =\n",
      " [[ 4.0000000e-01  6.4000000e-02  2.3040000e-02  1.2441600e-02\n",
      "   2.9859840e-03  7.1663616e-04 -1.0000000e+00]\n",
      " [ 0.0000000e+00  1.4400000e-01  5.1840000e-02  1.2441600e-02\n",
      "   2.9859840e-03  7.1663616e-04 -1.0000000e+00]]\n",
      "W =\n",
      " [[ 0.  0.  1.  1.  0.  0. -1.]\n",
      " [ 0.  0.  1.  1.  0.  0. -1.]]\n",
      "-------------------------\n",
      "after t = 6 :\n",
      "S =\n",
      " [[4.00000000e-01 6.40000000e-02 2.30400000e-02 1.24416000e-02\n",
      "  2.98598400e-03 7.16636160e-04 1.71992678e-04]\n",
      " [0.00000000e+00 1.44000000e-01 5.18400000e-02 1.24416000e-02\n",
      "  2.98598400e-03 7.16636160e-04 1.71992678e-04]]\n",
      "W =\n",
      " [[0. 0. 1. 1. 0. 0. 0.]\n",
      " [0. 0. 1. 1. 0. 0. 0.]]\n",
      "-------------------------\n",
      "TERMINATION\n",
      "BACKTRACK\n",
      "\n",
      "The best state sequence and repective path probability: [1 2 2 1 1 1 1] 0.00017199267840000004\n"
     ]
    }
   ],
   "source": [
    "P, Q = Viterbi_HMM(pi_init, A, B, O2)\n",
    "print('\\nThe best state sequence and repective path probability:', Q, P)"
   ]
  }
 ],
 "metadata": {
  "kernelspec": {
   "display_name": "Python (pr_hw)",
   "language": "python",
   "name": "pr_hw"
  },
  "language_info": {
   "codemirror_mode": {
    "name": "ipython",
    "version": 3
   },
   "file_extension": ".py",
   "mimetype": "text/x-python",
   "name": "python",
   "nbconvert_exporter": "python",
   "pygments_lexer": "ipython3",
   "version": "3.7.0"
  }
 },
 "nbformat": 4,
 "nbformat_minor": 2
}
