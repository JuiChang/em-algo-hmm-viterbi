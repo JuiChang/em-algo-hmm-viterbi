{
 "cells": [
  {
   "cell_type": "markdown",
   "metadata": {},
   "source": [
    "# Pattern Recognition homework"
   ]
  },
  {
   "cell_type": "markdown",
   "metadata": {},
   "source": [
    "## EM Algorithm - (a)"
   ]
  },
  {
   "cell_type": "code",
   "execution_count": 1,
   "metadata": {},
   "outputs": [],
   "source": [
    "import numpy as np\n",
    "from scipy.stats import multivariate_normal"
   ]
  },
  {
   "cell_type": "markdown",
   "metadata": {},
   "source": [
    "### Generate the dataset"
   ]
  },
  {
   "cell_type": "code",
   "execution_count": 2,
   "metadata": {},
   "outputs": [],
   "source": [
    "def generate_dataset():\n",
    "    m1 = np.array([1, 1])\n",
    "    m2 = np.array([3, 3])\n",
    "    m3 = np.array([2, 6])\n",
    "    s1 = np.matrix([[0.1, 0], [0, 0.1]])\n",
    "    s2 = np.matrix([[0.2, 0], [0, 0.2]])\n",
    "    s3 = np.matrix([[0.3, 0], [0, 0.3]])\n",
    "    \n",
    "    norm1 = multivariate_normal(mean=m1, cov=s1)\n",
    "    norm2 = multivariate_normal(mean=m2, cov=s2)\n",
    "    norm3 = multivariate_normal(mean=m3, cov=s3)\n",
    "    \n",
    "    dataset = np.zeros((2, 1000)) # each column corresponds to a data\n",
    "    \n",
    "    for i in range(1000):\n",
    "        decide_pdf = np.random.randint(0, 10)\n",
    "        if 0 <= decide_pdf <= 3:\n",
    "            dataset[:, i] = norm1.rvs()\n",
    "        elif 4 <= decide_pdf <= 7:\n",
    "            dataset[:, i] = norm2.rvs()\n",
    "        else:\n",
    "            dataset[:, i] = norm3.rvs()\n",
    "    \n",
    "    return dataset"
   ]
  },
  {
   "cell_type": "code",
   "execution_count": 3,
   "metadata": {},
   "outputs": [],
   "source": [
    "dataset = generate_dataset()"
   ]
  },
  {
   "cell_type": "markdown",
   "metadata": {},
   "source": [
    "### Define functions and variables of EM algorithm"
   ]
  },
  {
   "cell_type": "code",
   "execution_count": 4,
   "metadata": {},
   "outputs": [],
   "source": [
    "alpha = np.zeros(3) # each element corresponds to a model\n",
    "mu = np.zeros((2, 3)) # each column corresponds to a model\n",
    "cov = np.zeros((2, 2, 3))\n",
    "expect = np.zeros((3, 1000)) # each column corresponds to a data"
   ]
  },
  {
   "cell_type": "code",
   "execution_count": 5,
   "metadata": {},
   "outputs": [],
   "source": [
    "def pdf(X, mu_l, cov_l):\n",
    "    norm = multivariate_normal(mean=mu_l, cov=cov_l, allow_singular=True)\n",
    "    return norm.pdf(X)\n",
    "\n",
    "\n",
    "def e_step(dataset, alpha, mu, cov, expect, J):\n",
    "    \n",
    "    for l in range(J):\n",
    "        numera = alpha[l] * pdf(np.transpose(dataset), mu[:, l], cov[:, :, l])\n",
    "\n",
    "        denomi = 0\n",
    "        for iter_l in range(J):\n",
    "            denomi += alpha[iter_l] * pdf(np.transpose(dataset), mu[:, iter_l], cov[:, :, iter_l])\n",
    "\n",
    "        expect[l, :] = numera / denomi\n",
    "        \n",
    "    return expect\n",
    "            \n",
    "        \n",
    "def m_step(dataset, alpha, mu, cov, expect, J):\n",
    "    \n",
    "    # calculate new alpha\n",
    "    alpha = np.sum(expect, axis=1) / dataset.shape[1]\n",
    "    \n",
    "    # calculate new mu\n",
    "    for l in range(J):\n",
    "        # expect[l]: probability density of each data of model l\n",
    "        numera = np.sum(expect[l] * dataset, axis=1)\n",
    "        denomi = np.sum(expect[l])\n",
    "        mu[:, l] = numera / denomi\n",
    "    \n",
    "    # calculate new cov\n",
    "    for l in range(J):\n",
    "        \n",
    "        numera = np.zeros((2, 2))\n",
    "        for i in range(dataset.shape[1]):\n",
    "            diff_vec = np.reshape(dataset[:, i] - mu[:, l], (2, 1))\n",
    "            numera += expect[l, i] * diff_vec.dot(np.transpose(diff_vec))\n",
    "        \n",
    "        denomi = np.sum(expect[l])\n",
    "        \n",
    "        cov[:, :, l] = numera / denomi\n",
    "        \n",
    "    return alpha, mu, cov"
   ]
  },
  {
   "cell_type": "markdown",
   "metadata": {},
   "source": [
    "### Initialize the variables and run EM algorithm"
   ]
  },
  {
   "cell_type": "markdown",
   "metadata": {},
   "source": [
    "#### (a) - (1)"
   ]
  },
  {
   "cell_type": "code",
   "execution_count": 6,
   "metadata": {},
   "outputs": [
    {
     "name": "stdout",
     "output_type": "stream",
     "text": [
      "em iteration i = 199\n",
      "alpha 0 = 0.4109588768253148\n",
      "alpha 1 = 0.41503857865526234\n",
      "alpha 2 = 0.17400254451942282\n",
      "mu 0 = [1.0116826  0.99781589]\n",
      "mu 1 = [3.01182016 2.98883536]\n",
      "mu 2 = [2.03959909 5.98347388]\n",
      "cov 0 =\n",
      " [[ 0.09675528 -0.0017855 ]\n",
      " [-0.0017855   0.10538203]]\n",
      "cov 1 =\n",
      " [[0.18589021 0.00947531]\n",
      " [0.00947531 0.20210651]]\n",
      "cov 2 =\n",
      " [[ 0.25975244 -0.01719009]\n",
      " [-0.01719009  0.2662268 ]]\n"
     ]
    }
   ],
   "source": [
    "J = 3\n",
    "\n",
    "alpha[:] = 1/3\n",
    "\n",
    "mu[:, 0] = [0, 2]\n",
    "mu[:, 1] = [5, 2]\n",
    "mu[:, 2] = [5, 5]\n",
    "\n",
    "cov[:, :, 0] = 0.15 * np.identity(2)\n",
    "cov[:, :, 1] = 0.27 * np.identity(2)\n",
    "cov[:, :, 2] = 0.4 * np.identity(2)\n",
    "\n",
    "for i in range(200):\n",
    "    expect = e_step(dataset, alpha, mu, cov, expect, J)\n",
    "    alpha, mu, cov = m_step(dataset, alpha, mu, cov, expect, J)\n",
    "    if i == 199:\n",
    "        print('em iteration i =', i)\n",
    "        for k in range(J):\n",
    "            print('alpha', k, '=', alpha[k])\n",
    "        for k in range(J):\n",
    "            print('mu', k, '=', mu[:, k])\n",
    "        for k in range(J):\n",
    "            print('cov', k, '=\\n', cov[:, :, k])"
   ]
  },
  {
   "cell_type": "markdown",
   "metadata": {},
   "source": [
    "#### (a) - (2)"
   ]
  },
  {
   "cell_type": "code",
   "execution_count": 7,
   "metadata": {},
   "outputs": [
    {
     "name": "stdout",
     "output_type": "stream",
     "text": [
      "em iteration i = 199\n",
      "alpha 0 = 0.18107452213827144\n",
      "alpha 1 = 0.5894317582205445\n",
      "alpha 2 = 0.22949371964118406\n",
      "mu 0 = [0.9921593  1.02795673]\n",
      "mu 1 = [2.72417729 3.871655  ]\n",
      "mu 2 = [1.0253246  0.97375114]\n",
      "cov 0 =\n",
      " [[ 0.10599418 -0.05088895]\n",
      " [-0.05088895  0.10294813]]\n",
      "cov 1 =\n",
      " [[ 0.40448068 -0.60276652]\n",
      " [-0.60276652  2.09103996]]\n",
      "cov 2 =\n",
      " [[0.08731931 0.03744372]\n",
      " [0.03744372 0.10625254]]\n"
     ]
    }
   ],
   "source": [
    "J = 3\n",
    "\n",
    "alpha[:] = [0.2, 0.4, 0.4]\n",
    "\n",
    "mu[:, 0] = [1.6, 1.4]\n",
    "mu[:, 1] = [1.4, 1.6]\n",
    "mu[:, 2] = [1.3, 1.5]\n",
    "\n",
    "cov[:, :, 0] = 0.2 * np.identity(2)\n",
    "cov[:, :, 1] = 0.4 * np.identity(2)\n",
    "cov[:, :, 2] = 0.3 * np.identity(2)\n",
    "\n",
    "for i in range(200):\n",
    "    expect = e_step(dataset, alpha, mu, cov, expect, J)\n",
    "    alpha, mu, cov = m_step(dataset, alpha, mu, cov, expect, J)\n",
    "    if i == 199:\n",
    "        print('em iteration i =', i)\n",
    "        for k in range(J):\n",
    "            print('alpha', k, '=', alpha[k])\n",
    "        for k in range(J):\n",
    "            print('mu', k, '=', mu[:, k])\n",
    "        for k in range(J):\n",
    "            print('cov', k, '=\\n', cov[:, :, k])"
   ]
  },
  {
   "cell_type": "markdown",
   "metadata": {},
   "source": [
    "#### (a) - (3)"
   ]
  },
  {
   "cell_type": "code",
   "execution_count": 9,
   "metadata": {},
   "outputs": [
    {
     "name": "stdout",
     "output_type": "stream",
     "text": [
      "em iteration i = 199\n",
      "alpha 0 = 0.4106782649540512\n",
      "alpha 1 = 0.5893217350459488\n",
      "mu 0 = [1.01098326 0.99764757]\n",
      "mu 1 = [2.7242981  3.87219858]\n",
      "cov 0 =\n",
      " [[ 0.09610188 -0.00195991]\n",
      " [-0.00195991  0.10539676]]\n",
      "cov 1 =\n",
      " [[ 0.4044806  -0.60323608]\n",
      " [-0.60323608  2.08991349]]\n"
     ]
    }
   ],
   "source": [
    "alpha = np.zeros(2) # each element corresponds to a model\n",
    "mu = np.zeros((2, 2)) # each column corresponds to a model\n",
    "cov = np.zeros((2, 2, 2))\n",
    "expect = np.zeros((2, 1000)) # each column corresponds to a data\n",
    "\n",
    "J = 2\n",
    "\n",
    "alpha[:] = [0.5, 0.5]\n",
    "\n",
    "mu[:, 0] = [1.6, 1.4]\n",
    "mu[:, 1] = [1.4, 1.6]\n",
    "\n",
    "cov[:, :, 0] = 0.2 * np.identity(2)\n",
    "cov[:, :, 1] = 0.4 * np.identity(2)\n",
    "\n",
    "for i in range(200):\n",
    "    expect = e_step(dataset, alpha, mu, cov, expect, J)\n",
    "    alpha, mu, cov = m_step(dataset, alpha, mu, cov, expect, J)\n",
    "    if i == 199:\n",
    "        print('em iteration i =', i)\n",
    "        for k in range(J):\n",
    "            print('alpha', k, '=', alpha[k])\n",
    "        for k in range(J):\n",
    "            print('mu', k, '=', mu[:, k])\n",
    "        for k in range(J):\n",
    "            print('cov', k, '=\\n', cov[:, :, k])"
   ]
  },
  {
   "cell_type": "markdown",
   "metadata": {},
   "source": [
    "#### (a) - (4): Discuss the results\n",
    "* Initialization affects the estimation results a lot.\n",
    "    * The result of (1) is very close to the parameter values used to generate the dataset.\n",
    "    * The result of (2) is not close to the parameter values used to generate the dataset although the initialization doesn't look unreasonable.\n",
    "* The first estimated model of (3) seems close to the first model used to generate the dataset, while the second estimated model of (3), according to its alpha and mu, seems like the combination of the second and the third models used to generate the dataset."
   ]
  },
  {
   "cell_type": "code",
   "execution_count": null,
   "metadata": {},
   "outputs": [],
   "source": []
  }
 ],
 "metadata": {
  "kernelspec": {
   "display_name": "Python (pr_hw)",
   "language": "python",
   "name": "pr_hw"
  },
  "language_info": {
   "codemirror_mode": {
    "name": "ipython",
    "version": 3
   },
   "file_extension": ".py",
   "mimetype": "text/x-python",
   "name": "python",
   "nbconvert_exporter": "python",
   "pygments_lexer": "ipython3",
   "version": "3.7.0"
  }
 },
 "nbformat": 4,
 "nbformat_minor": 2
}
